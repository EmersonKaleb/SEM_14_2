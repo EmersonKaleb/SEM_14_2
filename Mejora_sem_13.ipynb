{
  "nbformat": 4,
  "nbformat_minor": 0,
  "metadata": {
    "colab": {
      "provenance": []
    },
    "kernelspec": {
      "name": "python3",
      "display_name": "Python 3"
    },
    "language_info": {
      "name": "python"
    }
  },
  "cells": [
    {
      "cell_type": "code",
      "execution_count": 1,
      "metadata": {
        "colab": {
          "base_uri": "https://localhost:8080/"
        },
        "id": "dSVfNZaRYfgM",
        "outputId": "3d4be9ec-e859-4883-8159-ffd3be669bb8"
      },
      "outputs": [
        {
          "output_type": "stream",
          "name": "stdout",
          "text": [
            "Requirement already satisfied: pyspark in /usr/local/lib/python3.10/dist-packages (3.5.3)\n",
            "Requirement already satisfied: py4j==0.10.9.7 in /usr/local/lib/python3.10/dist-packages (from pyspark) (0.10.9.7)\n"
          ]
        }
      ],
      "source": [
        "# Instalar PySpark\n",
        "!pip install pyspark\n",
        "\n",
        "# Importar las bibliotecas necesarias\n",
        "from pyspark.sql import SparkSession\n",
        "from pyspark.sql.functions import col, mean, approx_count_distinct, corr\n",
        "from pyspark.sql import functions as F"
      ]
    },
    {
      "cell_type": "code",
      "source": [
        "# Paso 2: Cargar el archivo CSV en un DataFrame de Spark\n",
        "# Asegúrate de subir el archivo 'muestra_datos_en_espanol.csv' a Colab y cambiar la ruta si es necesario\n",
        "df = spark.read.csv('/content/muestra_datos.csv', header=True, inferSchema=True)\n",
        "df.show(5)"
      ],
      "metadata": {
        "colab": {
          "base_uri": "https://localhost:8080/"
        },
        "id": "c0N3uYzXYkm8",
        "outputId": "fce257b1-ad8d-4abd-f62b-8284aa76dc6c"
      },
      "execution_count": 4,
      "outputs": [
        {
          "output_type": "stream",
          "name": "stdout",
          "text": [
            "+---+---------+------------+-----+--------+-------------------+\n",
            "| ID|Categoria|Subcategoria|Valor|Cantidad|         Fecha_Hora|\n",
            "+---+---------+------------+-----+--------+-------------------+\n",
            "|  1|        C|           Y|   28|      16|2023-01-01 00:00:00|\n",
            "|  2|        D|           Z|   69|      18|2023-01-01 01:00:00|\n",
            "|  3|        A|           X|   77|       8|2023-01-01 02:00:00|\n",
            "|  4|        C|           X|   81|       3|2023-01-01 03:00:00|\n",
            "|  5|        C|           X|   40|       9|2023-01-01 04:00:00|\n",
            "+---+---------+------------+-----+--------+-------------------+\n",
            "only showing top 5 rows\n",
            "\n"
          ]
        }
      ]
    },
    {
      "cell_type": "code",
      "source": [
        "# Paso 3: Optimizar Operaciones de Agregación\n",
        "# Calcular el promedio y máximo del \"Valor\" por \"Categoria\"\n",
        "agg_df = df.groupBy(\"Categoria\").agg(\n",
        "    {\"Valor\": \"avg\", \"Valor\": \"max\"}\n",
        ").withColumnRenamed(\"avg(Valor)\", \"Valor_Promedio\").withColumnRenamed(\"max(Valor)\", \"Valor_Maximo\")\n",
        "\n",
        "agg_df.show()"
      ],
      "metadata": {
        "colab": {
          "base_uri": "https://localhost:8080/"
        },
        "id": "CJnwZlDdaVzD",
        "outputId": "2b791df9-72de-4f64-a7c8-52c524ee17a1"
      },
      "execution_count": 5,
      "outputs": [
        {
          "output_type": "stream",
          "name": "stdout",
          "text": [
            "+---------+------------+\n",
            "|Categoria|Valor_Maximo|\n",
            "+---------+------------+\n",
            "|        B|          99|\n",
            "|        D|          99|\n",
            "|        C|          99|\n",
            "|        A|          99|\n",
            "+---------+------------+\n",
            "\n"
          ]
        }
      ]
    },
    {
      "cell_type": "code",
      "source": [
        "# Paso 4: Filtrar los Datos de Forma Eficiente\n",
        "# Filtrar registros con \"Valor\" superior a 50 para un análisis de altos valores\n",
        "filtered_df = df.filter(df[\"Valor\"] > 50)\n",
        "filtered_df.show(5)"
      ],
      "metadata": {
        "colab": {
          "base_uri": "https://localhost:8080/"
        },
        "id": "fLs3n_zDa784",
        "outputId": "4f9c6cc3-ad6d-4313-8b7b-c42720a14eaf"
      },
      "execution_count": 6,
      "outputs": [
        {
          "output_type": "stream",
          "name": "stdout",
          "text": [
            "+---+---------+------------+-----+--------+-------------------+\n",
            "| ID|Categoria|Subcategoria|Valor|Cantidad|         Fecha_Hora|\n",
            "+---+---------+------------+-----+--------+-------------------+\n",
            "|  2|        D|           Z|   69|      18|2023-01-01 01:00:00|\n",
            "|  3|        A|           X|   77|       8|2023-01-01 02:00:00|\n",
            "|  4|        C|           X|   81|       3|2023-01-01 03:00:00|\n",
            "|  7|        A|           X|   96|      10|2023-01-01 06:00:00|\n",
            "|  8|        A|           X|   62|      10|2023-01-01 07:00:00|\n",
            "+---+---------+------------+-----+--------+-------------------+\n",
            "only showing top 5 rows\n",
            "\n"
          ]
        }
      ]
    },
    {
      "cell_type": "code",
      "source": [
        "# Paso 5: Generar Nuevas Columnas para Indicadores\n",
        "# Crear una columna que clasifique los valores en \"Alto\" o \"Bajo\"\n",
        "from pyspark.sql.functions import when\n",
        "\n",
        "df = df.withColumn(\"Nivel_Valor\", when(df[\"Valor\"] > 50, \"Alto\").otherwise(\"Bajo\"))\n",
        "df.show(5)"
      ],
      "metadata": {
        "colab": {
          "base_uri": "https://localhost:8080/"
        },
        "id": "B9-c84D0bBG4",
        "outputId": "31f9b3be-6157-4df0-a38d-30811eac7c04"
      },
      "execution_count": 7,
      "outputs": [
        {
          "output_type": "stream",
          "name": "stdout",
          "text": [
            "+---+---------+------------+-----+--------+-------------------+-----------+\n",
            "| ID|Categoria|Subcategoria|Valor|Cantidad|         Fecha_Hora|Nivel_Valor|\n",
            "+---+---------+------------+-----+--------+-------------------+-----------+\n",
            "|  1|        C|           Y|   28|      16|2023-01-01 00:00:00|       Bajo|\n",
            "|  2|        D|           Z|   69|      18|2023-01-01 01:00:00|       Alto|\n",
            "|  3|        A|           X|   77|       8|2023-01-01 02:00:00|       Alto|\n",
            "|  4|        C|           X|   81|       3|2023-01-01 03:00:00|       Alto|\n",
            "|  5|        C|           X|   40|       9|2023-01-01 04:00:00|       Bajo|\n",
            "+---+---------+------------+-----+--------+-------------------+-----------+\n",
            "only showing top 5 rows\n",
            "\n"
          ]
        }
      ]
    },
    {
      "cell_type": "code",
      "source": [
        "# Paso 6: Gráficos Estadísticos en PySpark y Matplotlib\n",
        "# Convertir DataFrame de Spark a Pandas para gráficos\n",
        "pandas_df = df.toPandas()\n"
      ],
      "metadata": {
        "id": "KJSTBst8bGxW"
      },
      "execution_count": 8,
      "outputs": []
    },
    {
      "cell_type": "code",
      "source": [
        "# Importar la biblioteca de gráficos\n",
        "import matplotlib.pyplot as plt\n"
      ],
      "metadata": {
        "id": "oMTIxdTfbIMX"
      },
      "execution_count": 9,
      "outputs": []
    },
    {
      "cell_type": "code",
      "source": [
        "# Gráfico de barras del promedio de \"Valor\" por \"Categoria\"\n",
        "plt.figure(figsize=(8, 5))\n",
        "pandas_df.groupby(\"Categoria\")[\"Valor\"].mean().plot(kind=\"bar\")\n",
        "plt.title(\"Promedio de Valor por Categoria\")\n",
        "plt.xlabel(\"Categoria\")\n",
        "plt.ylabel(\"Valor Promedio\")\n",
        "plt.show()"
      ],
      "metadata": {
        "colab": {
          "base_uri": "https://localhost:8080/",
          "height": 484
        },
        "id": "tbxFA0SvbMQ2",
        "outputId": "23a0ce9d-5911-4e23-8fb0-aa955caa0caa"
      },
      "execution_count": 10,
      "outputs": [
        {
          "output_type": "display_data",
          "data": {
            "text/plain": [
              "<Figure size 800x500 with 1 Axes>"
            ],
            "image/png": "[encoded data removed]"
          },
          "metadata": {}
        }
      ]
    },
    {
      "cell_type": "code",
      "source": [
        "# Gráfico de la distribución de \"Valor\"\n",
        "plt.figure(figsize=(8, 5))\n",
        "pandas_df[\"Valor\"].plot(kind=\"hist\", bins=20, alpha=0.7)\n",
        "plt.title(\"Distribución de Valor\")\n",
        "plt.xlabel(\"Valor\")\n",
        "plt.ylabel(\"Frecuencia\")\n",
        "plt.show()"
      ],
      "metadata": {
        "colab": {
          "base_uri": "https://localhost:8080/",
          "height": 487
        },
        "id": "wyLWa-dgbP8k",
        "outputId": "dac1397d-f47a-4958-e26f-e54f9f1686c2"
      },
      "execution_count": 11,
      "outputs": [
        {
          "output_type": "display_data",
          "data": {
            "text/plain": [
              "<Figure size 800x500 with 1 Axes>"
            ],
            "image/png": "[encoded data removed]"
          },
          "metadata": {}
        }
      ]
    }
  ]
}